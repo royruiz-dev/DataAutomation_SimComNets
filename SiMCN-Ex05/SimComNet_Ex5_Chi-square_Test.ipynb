{
 "cells": [
  {
   "cell_type": "markdown",
   "metadata": {},
   "source": [
    "# Observed Values"
   ]
  },
  {
   "cell_type": "code",
   "execution_count": null,
   "metadata": {},
   "outputs": [],
   "source": [
    "%matplotlib inline"
   ]
  },
  {
   "cell_type": "code",
   "execution_count": 5,
   "metadata": {
    "scrolled": false
   },
   "outputs": [
    {
     "name": "stdout",
     "output_type": "stream",
     "text": [
      "Select option 1 to use UDP data with 10s simulation time\n",
      "Select option 2 to use UDP data with 20s simulation time\n",
      "Select option 3 to use UDP data with 100s simulation time\n",
      "Select option 4 to use UDP data with 200s simulation time\n",
      "Select option 5 to use UDP data with 1000s simulation time\n",
      "Select option 6 to use UDP data with 2000s simulation time\n",
      "Select option 7 to use UDP data with 10000s simulation time\n",
      "Select option 8 to use UDP data with 20000s simulation time\n",
      "\n",
      "Choose an option from the list: 6\n",
      "\n",
      "Enter a time step size to extract incoming packet arrival rate (packets per time unit) for data: 0.2\n",
      "\n",
      "         Time  Packets Received\n",
      "0        0.0               0.0\n",
      "1        0.2              16.0\n",
      "2        0.4              20.0\n",
      "3        0.6              25.0\n",
      "4        0.8              18.0\n",
      "...      ...               ...\n",
      "9995  1999.0              17.0\n",
      "9996  1999.2              23.0\n",
      "9997  1999.4              24.0\n",
      "9998  1999.6              25.0\n",
      "9999  1999.8              17.0\n",
      "\n",
      "[10000 rows x 2 columns] \n",
      "\n",
      "Minimum packet rate value: 0.0\n",
      "Maximum packet rate value: 37.0\n"
     ]
    },
    {
     "data": {
      "image/png": "[encoded data removed]",
      "text/plain": [
       "<Figure size 1080x576 with 1 Axes>"
      ]
     },
     "metadata": {
      "needs_background": "light"
     },
     "output_type": "display_data"
    }
   ],
   "source": [
    "import pandas as pd\n",
    "import numpy as np\n",
    "import matplotlib.pyplot as plt\n",
    "from matplotlib import pyplot as plt\n",
    "from matplotlib import style\n",
    "from decimal import Decimal\n",
    "import math\n",
    "import time\n",
    "\n",
    "udp_data = {\n",
    "    1:'10s',\n",
    "    2:'20s',\n",
    "    3:'100s',\n",
    "    4:'200s',\n",
    "    5:'1000s',\n",
    "    6:'2000s',\n",
    "    7:'10000s',\n",
    "    8:'20000s'\n",
    "    }\n",
    "\n",
    "for key, value in udp_data.items():\n",
    "    print(f\"Select option {key} to use UDP data with {value} simulation time\")\n",
    "    \n",
    "user_input = True\n",
    "while user_input:\n",
    "    try:\n",
    "        select = int(input(\"\\nChoose an option from the list: \"))\n",
    "        if select not in udp_data.keys():\n",
    "            raise KeyError\n",
    "    except KeyError:\n",
    "         print(\"Oops!  That was not a  valid key.  Try again...\")\n",
    "    except:\n",
    "        print(\"Please enter a valid integer value!\")\n",
    "    else:\n",
    "        user_input = False\n",
    "\n",
    "# Data is read from the CSV file and saved to a container \n",
    "cols = ['Time', 'PacketReceived']\n",
    "data = pd.read_csv(f'udp_rcvd_vector_{udp_data[select]}.csv', delimiter=',', skiprows=[0], names=cols)\n",
    "#X = data['Time']\n",
    "df = pd.DataFrame(data)\n",
    "\n",
    "time_unit_step = float(input(\"\\nEnter a time step size to extract incoming packet arrival rate (packets per time unit) for data: \"))\n",
    "\n",
    "# Time is divided into interval and corresponding data points are also arranged accordingly   \n",
    "max_time = float(math.ceil(df['Time'].max()))\n",
    "min_time = float(math.floor(df['Time'].min()))\n",
    "\n",
    "df_summary = df[\"PacketReceived\"].groupby(pd.cut(df[\"Time\"], \n",
    "            np.arange(min_time, max_time + time_unit_step, time_unit_step), labels=np.arange(int(min_time),int(max_time), \n",
    "            Decimal(f'{time_unit_step}')))).count().to_frame('Packets Received').reset_index()\n",
    "\n",
    "df2_summary = df_summary.astype(float)\n",
    "\n",
    "# Genenerated vectors from the previous setp are written to a seperate CSV file \n",
    "with open(f'packet_data_{udp_data[select]}_temp.csv', 'w') as csv_file:\n",
    "    df2_summary.to_csv(path_or_buf=csv_file)\n",
    "\n",
    "time.sleep(1)\n",
    "\n",
    "# Newly generated data is read in the following block of code for further processing and plotting \n",
    "columns = ['Time', 'Packets Received']\n",
    "df = pd.read_csv(f'packet_data_{udp_data[select]}_temp.csv',delimiter=',', skiprows=[0], names=columns)\n",
    "\n",
    "print(\"\\n\", df, \"\\n\")\n",
    "x = df['Time']\n",
    "y = df['Packets Received']\n",
    "\n",
    "plt.figure(figsize=(15,8))\n",
    "plt.title('Packets Received Distribution (Packet Arrival Rate)', size = 20)\n",
    "plt.xlabel('Incoming Packets', size = 16)\n",
    "plt.ylabel('Frequency', size = 16)\n",
    "plt.hist(y, bins = range(int(y.min()), int(y.max())+1, 1) , color = 'green', ec = 'white', label = True)\n",
    "plt.legend(['Obsereved Values',f\"Mean = {y.mean()}\"], loc='upper right')\n",
    "\n",
    "\n",
    "print(f\"Minimum packet rate value: {y.min()}\")\n",
    "print(f\"Maximum packet rate value: {y.max()}\")\n"
   ]
  },
  {
   "cell_type": "markdown",
   "metadata": {},
   "source": [
    "# Expected Values"
   ]
  },
  {
   "cell_type": "code",
   "execution_count": 2,
   "metadata": {
    "scrolled": false
   },
   "outputs": [
    {
     "name": "stdout",
     "output_type": "stream",
     "text": [
      "\n",
      "Enter the number of intervals desired for Chi-Square Test: 20\n",
      "\n",
      "    Packet_Rate Interval   N_j         np_j  (N_j - np_j)^2/np_j\n",
      "0       (58.999, 63.25]     1     0.882092             0.015761\n",
      "1         (63.25, 67.5]     3     5.072963             0.847074\n",
      "2         (67.5, 71.75]    12    23.021661             5.276640\n",
      "3         (71.75, 76.0]   141   123.997783             2.331295\n",
      "4         (76.0, 80.25]   329   310.901891             1.053521\n",
      "5         (80.25, 84.5]   686   710.652583             0.855200\n",
      "6         (84.5, 88.75]  1385  1343.924406             1.255431\n",
      "7         (88.75, 93.0]  2795  2768.513405             0.253399\n",
      "8         (93.0, 97.25]  2948  2941.758386             0.013243\n",
      "9        (97.25, 101.5]  3055  3174.507729             4.498996\n",
      "10      (101.5, 105.75]  2930  2924.808636             0.009214\n",
      "11      (105.75, 110.0]  2747  2777.984770             0.345594\n",
      "12      (110.0, 114.25]  1460  1406.376671             2.044588\n",
      "13      (114.25, 118.5]   811   805.902771             0.032239\n",
      "14      (118.5, 122.75]   405   403.252973             0.007569\n",
      "15      (122.75, 127.0]   221   200.971728             1.995961\n",
      "16      (127.0, 131.25]    56    52.889511             0.182931\n",
      "17      (131.25, 135.5]    12    17.532655             1.745901\n",
      "18      (135.5, 139.75]     2     5.161434             1.936413\n",
      "19      (139.75, 144.0]     1     1.481949             0.156736\n"
     ]
    }
   ],
   "source": [
    "from numpy import savetxt\n",
    "from scipy.stats import poisson\n",
    "\n",
    "np.set_printoptions(suppress=True)\n",
    "\n",
    "def interval_range():\n",
    "    interval_range = []\n",
    "    interval_range.append(obs_min)\n",
    "    value = obs_min\n",
    "    for i in range(1, int(k)+1, 1):\n",
    "        if (value <= obs_max):\n",
    "            value += interval_size\n",
    "            interval_range.append(value)\n",
    "    return interval_range\n",
    "\n",
    "def np_j_less_than_5(array):\n",
    "    counter = 0\n",
    "    for i in array:\n",
    "        if i < 5.0:\n",
    "            counter+=1\n",
    "    return counter\n",
    "\n",
    "# We are required to generate an expected array with the same mean as the observed array\n",
    "\n",
    "columns = ['Time', 'Packet_Rate Interval']\n",
    "df = pd.read_csv(f'packet_data_{udp_data[select]}_temp.csv',delimiter=',', skiprows=[0], names=columns)\n",
    "y =  df['Packet_Rate Interval']\n",
    "\n",
    "run = True\n",
    "while run:\n",
    "    try:\n",
    "        k = float(input(\"\\nEnter the number of intervals desired for Chi-Square Test: \")) #Interval\n",
    "        \n",
    "        obs_max = y.max()\n",
    "        obs_min = y.min()\n",
    "        interval_size = (obs_max - obs_min) / k\n",
    "\n",
    "        equi_distant_table = df[\"Packet_Rate Interval\"].groupby(pd.cut(df[\"Packet_Rate Interval\"], \n",
    "           interval_range(), include_lowest=True)).count().to_frame('N_j').reset_index()\n",
    "\n",
    "        n_pts = equi_distant_table['N_j'].sum() # number of data points (sum of occurrances)\n",
    "\n",
    "        # Observed occurances of data is saved to csv file\n",
    "        savetxt(f'observed_{udp_data[select]}_temp.csv', equi_distant_table['N_j'], delimiter=',')\n",
    "\n",
    "        # Here we calculate the pdf for each bin and multiply it by the total count to get expected frequency array\n",
    "        expected_frequency = []\n",
    "        for i in range(1, int(k) + 1, 1):\n",
    "            expected_frequency.append(n_pts * (poisson.cdf(obs_min + i * interval_size, y.mean()) - \n",
    "                                               poisson.cdf(obs_min + (i-1) * interval_size, y.mean())))\n",
    "        \n",
    "        if (k >= 3 and (min(expected_frequency) >= (5 * np_j_less_than_5(expected_frequency))/int(k))):\n",
    "            equi_distant_table['np_j'] = np.array(expected_frequency)\n",
    "            equi_distant_table['(N_j - np_j)^2/np_j'] = ((equi_distant_table['N_j'] - \n",
    "                                                          equi_distant_table['np_j'])**2)/equi_distant_table['np_j']\n",
    "\n",
    "            print(\"\\n\", equi_distant_table)\n",
    "\n",
    "            # Expected frequency of data is saved to csv file\n",
    "            savetxt(f'expected_{udp_data[select]}_temp.csv', equi_distant_table['np_j'], delimiter=',')\n",
    "        else:\n",
    "            raise Exception\n",
    "            \n",
    "    except:\n",
    "        if (k < 3):\n",
    "            print(f\"\\nConsider entering a new interval that is at least 3 !!!\")\n",
    "        else:\n",
    "            print(f\"\\nConsider entering a new interval that is less than {int(k)} !!!\")\n",
    "        continue \n",
    "        \n",
    "    else:\n",
    "        run = False"
   ]
  },
  {
   "cell_type": "markdown",
   "metadata": {},
   "source": [
    "# Chi-Square Test"
   ]
  },
  {
   "cell_type": "code",
   "execution_count": 3,
   "metadata": {
    "scrolled": true
   },
   "outputs": [
    {
     "name": "stdout",
     "output_type": "stream",
     "text": [
      "Chi-Square Critical Value is 30.14352720564616\n",
      "---\n",
      "\n",
      "Measured Chi-Square Value is 24.8577051443198\n",
      "Chi-Square Value using built-in function is 24.857705144319816\n",
      "P-Value using built-in function is 0.1652795487131846\n",
      "\n",
      "The null hypothesis, H₀, is ACCEPTED!\n"
     ]
    }
   ],
   "source": [
    "from scipy.stats import chisquare\n",
    "from scipy import stats\n",
    "\n",
    "SUB = str.maketrans(\"0123456789\", \"₀₁₂₃₄₅₆₇₈₉\")\n",
    "\n",
    "dof = k - 1\n",
    "crit = stats.chi2.ppf(q=0.95, df=dof) # q here is 1 - alpha, which is 0.05\n",
    "print(f\"Chi-Square Critical Value is {crit}\\n---\\n\")\n",
    "\n",
    "cols = ['obs']\n",
    "obs = pd.read_csv(f'observed_{udp_data[select]}_temp.csv',delimiter=',', names = cols)\n",
    "observed_vals = obs['obs']\n",
    "\n",
    "cols1 = ['exp']\n",
    "exp = pd.read_csv(f'expected_{udp_data[select]}_temp.csv',delimiter=',', names=cols1)\n",
    "expected_vals = exp['exp']\n",
    "\n",
    "chisq_sum = equi_distant_table['(N_j - np_j)^2/np_j'].sum()\n",
    "print(f\"Measured Chi-Square Value is {chisq_sum}\")\n",
    "\n",
    "chisq, p = chisquare(observed_vals, f_exp = expected_vals, ddof = 0, axis = 0)\n",
    "print(f\"Chi-Square Value using built-in function is {chisq}\")\n",
    "print(f\"P-Value using built-in function is {p}\")\n",
    "\n",
    "if (chisq < crit): print(\"\\nThe null hypothesis, H0, is ACCEPTED!\".translate(SUB))\n",
    "else: print(\"\\nThe null hypothesis, H0, is REJECTED!\".translate(SUB))\n"
   ]
  },
  {
   "cell_type": "code",
   "execution_count": null,
   "metadata": {},
   "outputs": [],
   "source": []
  }
 ],
 "metadata": {
  "kernelspec": {
   "display_name": "Python 3",
   "language": "python",
   "name": "python3"
  },
  "language_info": {
   "codemirror_mode": {
    "name": "ipython",
    "version": 3
   },
   "file_extension": ".py",
   "mimetype": "text/x-python",
   "name": "python",
   "nbconvert_exporter": "python",
   "pygments_lexer": "ipython3",
   "version": "3.7.4"
  }
 },
 "nbformat": 4,
 "nbformat_minor": 2
}
