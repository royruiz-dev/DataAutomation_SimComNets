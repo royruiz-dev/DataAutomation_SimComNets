{
 "cells": [
  {
   "cell_type": "markdown",
   "metadata": {},
   "source": [
    "# Observed Values"
   ]
  },
  {
   "cell_type": "code",
   "execution_count": 182,
   "metadata": {
    "scrolled": false
   },
   "outputs": [
    {
     "name": "stdout",
     "output_type": "stream",
     "text": [
      "Maximum element in array is:\n",
      " 3147.0\n",
      "Index of maximum array is:\n",
      " (array([40], dtype=int64),)\n"
     ]
    },
    {
     "data": {
      "image/png": "[encoded data removed]",
      "text/plain": [
       "<Figure size 576x576 with 1 Axes>"
      ]
     },
     "metadata": {
      "needs_background": "light"
     },
     "output_type": "display_data"
    }
   ],
   "source": [
    "import pandas as pd\n",
    "import numpy as np\n",
    "import matplotlib.pyplot as plt\n",
    "from matplotlib import pyplot as plt\n",
    "from matplotlib import style\n",
    "import math\n",
    "import decimal\n",
    "#import plotly.express as px\n",
    "from numpy import asarray\n",
    "from numpy import savetxt\n",
    "\n",
    "# Data is read from the CSV file and saved to a container \n",
    "cols = ['iAT', 'PacketSize']\n",
    "data = pd.read_csv('udp_rcvd_vector.csv',\n",
    "    delimiter=',', skiprows=[0], names=cols)\n",
    "X = data['iAT']\n",
    "df = pd.DataFrame(data)\n",
    "\n",
    "# Time is divided into interval and corresponding data points are also arranged accordingly   \n",
    "max_time = float(math.ceil(df['iAT'].max()))\n",
    "min_time = float(math.floor(df['iAT'].min()))\n",
    "\n",
    "df_summary = df[\"iAT\"].groupby(pd.cut(df[\"iAT\"], \n",
    "            np.arange(min_time, max_time+0.4, 0.4),labels=np.arange(int(min_time),int(max_time), \n",
    "            decimal.Decimal('0.4')))).count().to_frame('Occurrences').reset_index()\n",
    "\n",
    "df2_summary = df_summary.astype(float)\n",
    "\n",
    "#df2_summary['Throughput'] = df2_summary['rxPkOk_Sum']/df2_summary['Sim_T']\n",
    "\n",
    "# Genenerated vectors from the previous setp are written to a seperate CSV file \n",
    "with open('iAT_data.csv', 'w') as csv_file:\n",
    "    df2_summary.to_csv(path_or_buf=csv_file)\n",
    "    \n",
    "# Newly generated data is read in the following block of code for further processing and plotting \n",
    "columns = ['Serial_Num', 'iAT', 'Occurance_count']\n",
    "df = pd.read_csv('iAT_data.csv',delimiter=',', skiprows=[0], names=columns)\n",
    "\n",
    "x = df['iAT']\n",
    "y = df['Occurance_count']\n",
    "plt.figure(figsize=(8,8))\n",
    "(n, bins, patches) = plt.hist(y, bins = range(0,81) , color = \"red\", ec=\"green\")\n",
    "\n",
    "# The following line supresses the scientific notation of data recodrding \n",
    "np.set_printoptions(suppress=True)\n",
    "data = asarray(n)\n",
    "\n",
    "# Packet count vector is saved to a new csv file\n",
    "savetxt('data.csv', data, delimiter=',')\n",
    "print(\"Maximum element in array is:\\n\", numpy.amax(n))\n",
    "print(\"Index of maximum array is:\\n\", numpy.where(n == numpy.amax(n)))"
   ]
  },
  {
   "cell_type": "markdown",
   "metadata": {},
   "source": [
    "# Expected Values"
   ]
  },
  {
   "cell_type": "code",
   "execution_count": 183,
   "metadata": {
    "scrolled": false
   },
   "outputs": [
    {
     "data": {
      "image/png": "[encoded data removed]",
      "text/plain": [
       "<Figure size 576x576 with 1 Axes>"
      ]
     },
     "metadata": {
      "needs_background": "light"
     },
     "output_type": "display_data"
    },
    {
     "name": "stdout",
     "output_type": "stream",
     "text": [
      "[   0.            0.            0.            0.            0.00000002\n",
      "    0.00000019    0.00000124    0.00000706    0.00003527    0.00015666\n",
      "    0.00062622    0.00227566    0.00758046    0.02330891    0.0665524\n",
      "    0.17735452    0.44309011    1.04186852    2.31371679    4.8677289\n",
      "    9.72895452   18.51896301   33.64834972   58.47977848   97.40118997\n",
      "  155.73780157  239.43656725  354.48388685  506.06727374  697.55754593\n",
      "  929.45543665 1198.49620699 1497.11951441 1813.47810736 2132.07847527\n",
      " 2435.03342498 2703.7853585  2921.05862689 3072.74458919 3149.42768801\n",
      " 3147.32387031 3068.50873948 2920.43711966 2714.87094666 2466.41582988\n",
      " 2190.90512365 1903.86226002 1619.22594045 1348.45358127 1100.0431137\n",
      "  879.44662792  689.30130006  529.87757445  399.64046508  295.83222611\n",
      "  215.00698922  153.47383183  107.62899039   74.17730636   50.25610571\n",
      "   33.48168975   21.94054032   14.14573164    8.97541733    5.60588859\n",
      "    3.44747314    2.08798196    1.24572369    0.73228915    0.42423187\n",
      "    0.24225628    0.13639124    0.07572229    0.04146395    0.02239798\n",
      "    0.01193761    0.00627875    0.00325951    0.00167043    0.00084522]\n"
     ]
    }
   ],
   "source": [
    "import scipy.stats \n",
    "import numpy\n",
    "import numpy as np\n",
    "import pandas as pd\n",
    "from scipy.stats import poisson\n",
    "\n",
    "# We are required to generate an expected array with the same mean as the observed array\n",
    "n_pts = 50000\n",
    "columns = ['Serial_Num', 'iAT', 'Occurance_count']\n",
    "df = pd.read_csv('iAT_data.csv',delimiter=',', skiprows=[0], names=columns)\n",
    "x =  df['Occurance_count']\n",
    "\n",
    "# Following line of code generates the mean value for the observed data\n",
    "poisson_mean = df['Occurance_count'].mean() \n",
    "\n",
    "# This block of code generates random data following the poisson distribution around the given mean value\n",
    "plt.figure(figsize=(8,8))\n",
    "poisdata = np.random.poisson(poisson_mean, n_pts)\n",
    "(m, bins, patches) = plt.hist(poisdata, bins = range(0,81) , color = \"red\", ec=\"green\")\n",
    "plt.xlabel(\"X\")\n",
    "plt.ylabel(\"P(X|\\mu)\")\n",
    "plt.title(\"Poisson PMF\")\n",
    "plt.show()\n",
    "\n",
    "# Here we calculate the pdf for each bin and multiply it by the total count to get expected array of poisson distributed data\n",
    "expected_count = []\n",
    "for i in range(80):\n",
    "    expected_count.append(n_pts *  poisson.pmf(i,poisson_lambda ))   \n",
    "expected_count = np.array(expected_count)\n",
    "print(expected_count)\n",
    "\n",
    "\n",
    "# Expected array of data is saved to csv file\n",
    "savetxt('expected_count.csv', expected_count, delimiter=',')\n"
   ]
  },
  {
   "cell_type": "markdown",
   "metadata": {},
   "source": [
    "# Chi-Square Test"
   ]
  },
  {
   "cell_type": "code",
   "execution_count": 184,
   "metadata": {},
   "outputs": [
    {
     "name": "stdout",
     "output_type": "stream",
     "text": [
      "Power_divergenceResult(statistic=67.42110853588304, pvalue=0.7740072672418913)\n"
     ]
    }
   ],
   "source": [
    "from scipy.stats import chisquare\n",
    "\n",
    "cols = ['obs']\n",
    "obs = pd.read_csv('data.csv',delimiter=',', skiprows=[0], names = cols)\n",
    "observed_vals = obs['obs']\n",
    "\n",
    "cols1 = ['exp']\n",
    "exp = pd.read_csv('expected_count.csv',delimiter=',', skiprows=[0], names=cols1)\n",
    "expected_vals = exp['exp']\n",
    "#print(observed_vals)\n",
    "#print(expected_vals)\n",
    "chi_square = chisquare( observed_vals, f_exp = expected_vals, ddof = 1, axis = 0)\n",
    "print(chi_square)"
   ]
  }
 ],
 "metadata": {
  "kernelspec": {
   "display_name": "Python 3",
   "language": "python",
   "name": "python3"
  },
  "language_info": {
   "codemirror_mode": {
    "name": "ipython",
    "version": 3
   },
   "file_extension": ".py",
   "mimetype": "text/x-python",
   "name": "python",
   "nbconvert_exporter": "python",
   "pygments_lexer": "ipython3",
   "version": "3.7.4"
  }
 },
 "nbformat": 4,
 "nbformat_minor": 2
}
