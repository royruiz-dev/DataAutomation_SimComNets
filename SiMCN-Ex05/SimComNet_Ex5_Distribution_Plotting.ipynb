{
 "cells": [
  {
   "cell_type": "code",
   "execution_count": 8,
   "metadata": {},
   "outputs": [],
   "source": [
    "import pandas as pd\n",
    "import numpy as np\n",
    "import matplotlib.pyplot as plt\n",
    "from matplotlib import pyplot as plt\n",
    "from matplotlib import style\n",
    "import math\n",
    "import decimal\n",
    "#import plotly.express as px\n",
    "\n",
    "\n",
    "cols = ['iAT', 'PacketSize']\n",
    "data = pd.read_csv('incoming-packet-rate-server-2000s-time-limit.csv',\n",
    "    delimiter=',', skiprows=[0], names=cols)\n",
    "\n",
    "df = pd.DataFrame(data)\n",
    "\n",
    "max_time = float(math.ceil(df['iAT'].max()))\n",
    "min_time = float(math.floor(df['iAT'].min()))\n",
    "\n",
    "df_summary = df[\"iAT\"].groupby(pd.cut(df[\"iAT\"], np.arange(\n",
    "    min_time, max_time+0.1, 0.1), labels=np.arange(int(min_time), int(max_time), \n",
    "    decimal.Decimal('0.1')))).count().to_frame('Occurrences').reset_index()\n",
    "\n",
    "df2_summary = df_summary.astype(float)\n",
    "#df2_summary['Throughput'] = df2_summary['rxPkOk_Sum']/df2_summary['Sim_T']\n",
    "\n",
    "with open('iAT_data.csv', 'w') as csv_file:\n",
    "    df2_summary.to_csv(path_or_buf=csv_file)\n",
    "\n",
    "#df = pd.read_csv('csv_data.csv')\n",
    "\n",
    "#fig = px.line(df, x='Sim_T', y='Throughput',\n",
    "#    title='Throughput vs Time',line_shape='spline')\n",
    "#fig.show()\n"
   ]
  },
  {
   "cell_type": "code",
   "execution_count": null,
   "metadata": {},
   "outputs": [],
   "source": []
  }
 ],
 "metadata": {
  "kernelspec": {
   "display_name": "Python 3",
   "language": "python",
   "name": "python3"
  },
  "language_info": {
   "codemirror_mode": {
    "name": "ipython",
    "version": 3
   },
   "file_extension": ".py",
   "mimetype": "text/x-python",
   "name": "python",
   "nbconvert_exporter": "python",
   "pygments_lexer": "ipython3",
   "version": "3.7.4"
  }
 },
 "nbformat": 4,
 "nbformat_minor": 2
}
