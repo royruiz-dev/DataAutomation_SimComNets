{
 "cells": [
  {
   "cell_type": "code",
   "execution_count": 2,
   "metadata": {},
   "outputs": [
    {
     "data": {
      "text/html": [
       "        <script type=\"text/javascript\">\n",
       "        window.PlotlyConfig = {MathJaxConfig: 'local'};\n",
       "        if (window.MathJax) {MathJax.Hub.Config({SVG: {font: \"STIX-Web\"}});}\n",
       "        if (typeof require !== 'undefined') {\n",
       "        require.undef(\"plotly\");\n",
       "        requirejs.config({\n",
       "            paths: {\n",
       "                'plotly': ['https://cdn.plot.ly/plotly-latest.min']\n",
       "            }\n",
       "        });\n",
       "        require(['plotly'], function(Plotly) {\n",
       "            window._Plotly = Plotly;\n",
       "        });\n",
       "        }\n",
       "        </script>\n",
       "        "
      ]
     },
     "metadata": {},
     "output_type": "display_data"
    }
   ],
   "source": [
    "import plotly\n",
    "from plotly.offline import init_notebook_mode\n",
    "init_notebook_mode(connected = True)"
   ]
  },
  {
   "cell_type": "code",
   "execution_count": 115,
   "metadata": {},
   "outputs": [
    {
     "name": "stdout",
     "output_type": "stream",
     "text": [
      "Calculated sample standard deviation: 16053.682068781582\n",
      "\n",
      "CI based on T-score: [169603.20535178584, 192226.03394466816]\n",
      "\n",
      "CI based on Z-score: [170964.62725179936, 190864.61204465464]\n",
      "\n",
      "Mean: 180914.619648227\n",
      "[176122.50988647, 176122.50988647, 176122.50988647, 176122.50988647, 226549.20436232, 176122.50988647, 176122.50988647, 176122.50988647, 173616.91302819, 176122.50988647]\n",
      "\n",
      "Calculated sample standard deviation: 24187.418633604295\n",
      "\n",
      "CI based on T-score: [671220.6646460664, 705305.5445825137]\n",
      "\n",
      "CI based on Z-score: [673271.8627009114, 703254.3465276688]\n",
      "\n",
      "Mean: 688263.1046142901\n",
      "\n",
      "Calculated sample standard deviation: 17836.177197354136\n",
      "\n",
      "CI based on T-score: [772384.3685384274, 797519.0870260126]\n",
      "\n",
      "CI based on Z-score: [773896.953759996, 796006.501804444]\n",
      "\n",
      "Mean: 784951.72778222\n"
     ]
    },
    {
     "data": {
      "image/png": "[encoded data removed]",
      "text/plain": [
       "<Figure size 1080x720 with 1 Axes>"
      ]
     },
     "metadata": {
      "needs_background": "light"
     },
     "output_type": "display_data"
    }
   ],
   "source": [
    "import pandas as pd\n",
    "import numpy as np\n",
    "import matplotlib.pyplot as plt\n",
    "from matplotlib import pyplot as plt\n",
    "from matplotlib import style\n",
    "import math\n",
    "import decimal\n",
    "import statistics\n",
    "from scipy import stats\n",
    "\n",
    "cols = ['run', 'ber', 'timelimit', 'repetition', 'Module', 'Avg_Throughput']\n",
    "data = pd.read_csv('Ten_Runs_avg-throughput_scalar.csv',\n",
    "    delimiter=',', skiprows=[0], names=cols)\n",
    "\n",
    "df = pd.DataFrame(data)\n",
    "\n",
    "con_coef = 0.95\n",
    "\n",
    "avgTP_10s_arr = []\n",
    "avgTP_100s_arr = []\n",
    "avgTP_1000s_arr = []\n",
    "\n",
    "for i in range(len(data)):\n",
    "    if (df['timelimit'][i] == 10):\n",
    "        avgTP_10s_arr.append(df['Avg_Throughput'][i])\n",
    "    elif (df['timelimit'][i] == 100):\n",
    "        avgTP_100s_arr.append(df['Avg_Throughput'][i])\n",
    "    elif (df['timelimit'][i] == 1000):\n",
    "        avgTP_1000s_arr.append(df['Avg_Throughput'][i])\n",
    "\n",
    "\n",
    "# Sample variance = SUM((x_i - x_bar)^2) / (n - 1)\n",
    "# Sample standard deviation = sqrt(sample variance)\n",
    "\n",
    "def sampleStdDev(arr):\n",
    "    sampleVariance = 0\n",
    "    for i, val in enumerate(arr):\n",
    "        sampleVariance += (val - sampleMean(arr))**2\n",
    "    \n",
    "    sampleVariance = sampleVariance / (len(arr) - 1)\n",
    "    return math.sqrt(sampleVariance)\n",
    "\n",
    "def sampleMean(arr):\n",
    "    return statistics.mean(arr)\n",
    "\n",
    "\n",
    "# We assume we know the population standard deviation. For n <= 30, use T-Score. For n > 30, use Z-Score.\n",
    "\n",
    "def tScore(conf, arr):\n",
    "    return stats.t.ppf((conf + 1) / 2, len(arr))\n",
    "\n",
    "def confInterval_t(conf, arr):\n",
    "    CI_bounds = []\n",
    "    CI_bounds.append(sampleMean(arr) - tScore(conf, arr) * sampleStdDev(arr) / math.sqrt(len(arr)))\n",
    "    CI_bounds.append(sampleMean(arr) + tScore(conf, arr) * sampleStdDev(arr) / math.sqrt(len(arr)))\n",
    "    return CI_bounds\n",
    "\n",
    "def confInterval_z(a, b, arr):\n",
    "    CI_bounds = []\n",
    "    CI_bounds.append(sampleMean(arr) + a * sampleStdDev(arr) / math.sqrt(len(arr)))\n",
    "    CI_bounds.append(sampleMean(arr) + b * sampleStdDev(arr) / math.sqrt(len(arr)))\n",
    "    return CI_bounds\n",
    "\n",
    "print(f\"Calculated sample standard deviation: {sampleStdDev(avgTP_10s_arr)}\")\n",
    "print(f\"\\nCI based on T-score:\", confInterval_t(con_coef, avgTP_10s_arr))\n",
    "print(f\"\\nCI based on Z-score:\", confInterval_z(z_interval_l, z_interval_r, avgTP_10s_arr))\n",
    "print(f\"\\nMean: {sampleMean(avgTP_10s_arr)}\")\n",
    "print(avgTP_10s_arr)\n",
    "\n",
    "print(f\"\\nCalculated sample standard deviation: {sampleStdDev(avgTP_100s_arr)}\")\n",
    "print(f\"\\nCI based on T-score:\", confInterval_t(con_coef, avgTP_100s_arr))\n",
    "print(f\"\\nCI based on Z-score:\", confInterval_z(z_interval_l, z_interval_r, avgTP_100s_arr))\n",
    "print(f\"\\nMean: {sampleMean(avgTP_100s_arr)}\")\n",
    "\n",
    "print(f\"\\nCalculated sample standard deviation: {sampleStdDev(avgTP_1000s_arr)}\")\n",
    "print(f\"\\nCI based on T-score:\", confInterval_t(con_coef, avgTP_1000s_arr))\n",
    "print(f\"\\nCI based on Z-score:\", confInterval_z(z_interval_l, z_interval_r, avgTP_1000s_arr))\n",
    "print(f\"\\nMean: {sampleMean(avgTP_1000s_arr)}\")\n",
    "\n",
    "CI_10s = confInterval_t(con_coef, avgTP_10s_arr)\n",
    "CI_100s = confInterval_t(con_coef, avgTP_100s_arr)\n",
    "CI_1000s = confInterval_t(con_coef, avgTP_1000s_arr)\n",
    "\n",
    "\n",
    "# width of the bars\n",
    "barWidth = 0.25\n",
    "\n",
    "# Choose the height of the blue bars\n",
    "bars = [sampleMean(avgTP_10s_arr), sampleMean(avgTP_100s_arr), sampleMean(avgTP_1000s_arr)]\n",
    " \n",
    "# Choose the height of the error bars (bars1)\n",
    "yer = [CI_10s[1] - CI_10s[0], CI_100s[1] - CI_100s[0], CI_1000s[1] - CI_1000s[0]]\n",
    " \n",
    "# The x position of bars\n",
    "r = np.arange(len(bars))\n",
    "#r2 = [x + barWidth for x in r1]\n",
    "\n",
    "plt.figure(figsize = (15,10))\n",
    "# Create blue bars\n",
    "plt.bar(r, bars, width = barWidth, color = 'yellow', edgecolor = 'black', yerr=yer, capsize=7, label=True)\n",
    " \n",
    "# Create cyan bars\n",
    "#plt.bar(r2, bars2, width = barWidth, color = 'cyan', edgecolor = 'black', yerr=yer2, capsize=7, label='sorgho')\n",
    " \n",
    "# general layout\n",
    "plt.xticks(np.arange(len(bars)), ['10s', '100s', '1000s'])\n",
    "plt.ylabel('Average Throughput')\n",
    "plt.legend(['Avg_TP'], loc = 'upper left', fontsize = 18)\n",
    "\n",
    "# Show graphic\n",
    "plt.show()"
   ]
  },
  {
   "cell_type": "code",
   "execution_count": 116,
   "metadata": {},
   "outputs": [
    {
     "name": "stdout",
     "output_type": "stream",
     "text": [
      "Calculated sample standard deviation: 70076.78607071172\n",
      "\n",
      "CI based on T-score: [185663.13362680096, 237921.66782711237]\n",
      "\n",
      "CI based on Z-score: [186716.20567730916, 236868.59577660417]\n",
      "\n",
      "Mean: 211792.40072695666\n",
      "\n",
      "Calculated sample standard deviation: 41045.30883296226\n",
      "\n",
      "CI based on T-score: [677651.8962776476, 708260.7154841291]\n",
      "\n",
      "CI based on Z-score: [678268.7006426888, 707643.911119088]\n",
      "\n",
      "Mean: 692956.3058808884\n",
      "\n",
      "Calculated sample standard deviation: 16001.192281077303\n",
      "\n",
      "CI based on T-score: [770565.5233136389, 782498.1318271438]\n",
      "\n",
      "CI based on Z-score: [770805.9796660322, 782257.6754747505]\n",
      "\n",
      "Mean: 776531.8275703914\n"
     ]
    },
    {
     "data": {
      "image/png": "[encoded data removed]",
      "text/plain": [
       "<Figure size 1080x720 with 1 Axes>"
      ]
     },
     "metadata": {
      "needs_background": "light"
     },
     "output_type": "display_data"
    }
   ],
   "source": [
    "import pandas as pd\n",
    "import numpy as np\n",
    "import matplotlib.pyplot as plt\n",
    "from matplotlib import pyplot as plt\n",
    "from matplotlib import style\n",
    "import math\n",
    "import decimal\n",
    "import statistics\n",
    "from scipy import stats\n",
    "\n",
    "cols = ['run', 'ber', 'timelimit', 'repetition', 'Module', 'Avg_Throughput']\n",
    "data = pd.read_csv('Thirty_Runs_avg-throughput_scalar.csv',\n",
    "    delimiter=',', skiprows=[0], names=cols)\n",
    "\n",
    "df = pd.DataFrame(data)\n",
    "\n",
    "con_coef = 0.95\n",
    "\n",
    "avgTP_10s_arr = []\n",
    "avgTP_100s_arr = []\n",
    "avgTP_1000s_arr = []\n",
    "\n",
    "for i in range(len(data)):\n",
    "    if (df['timelimit'][i] == 10):\n",
    "        avgTP_10s_arr.append(df['Avg_Throughput'][i])\n",
    "    elif (df['timelimit'][i] == 100):\n",
    "        avgTP_100s_arr.append(df['Avg_Throughput'][i])\n",
    "    elif (df['timelimit'][i] == 1000):\n",
    "        avgTP_1000s_arr.append(df['Avg_Throughput'][i])\n",
    "\n",
    "\n",
    "# Sample variance = SUM((x_i - x_bar)^2) / (n - 1)\n",
    "# Sample standard deviation = sqrt(sample variance)\n",
    "\n",
    "def sampleStdDev(arr):\n",
    "    sampleVariance = 0\n",
    "    for i, val in enumerate(arr):\n",
    "        sampleVariance += (val - sampleMean(arr))**2\n",
    "    \n",
    "    sampleVariance = sampleVariance / (len(arr) - 1)\n",
    "    return math.sqrt(sampleVariance)\n",
    "\n",
    "def sampleMean(arr):\n",
    "    return statistics.mean(arr)\n",
    "\n",
    "# We assume we know the population standard deviation. For n <= 30, use T-Score. For n > 30, use Z-Score.\n",
    "\n",
    "def tScore(conf, arr):\n",
    "    return stats.t.ppf((conf + 1) / 2, len(arr))\n",
    "\n",
    "def confInterval_t(conf, arr):\n",
    "    CI_bounds = []\n",
    "    CI_bounds.append(sampleMean(arr) - tScore(conf, arr) * sampleStdDev(arr) / math.sqrt(len(arr)))\n",
    "    CI_bounds.append(sampleMean(arr) + tScore(conf, arr) * sampleStdDev(arr) / math.sqrt(len(arr)))\n",
    "    return CI_bounds\n",
    "\n",
    "def confInterval_z(a, b, arr):\n",
    "    CI_bounds = []\n",
    "    CI_bounds.append(sampleMean(arr) + a * sampleStdDev(arr) / math.sqrt(len(arr)))\n",
    "    CI_bounds.append(sampleMean(arr) + b * sampleStdDev(arr) / math.sqrt(len(arr)))\n",
    "    return CI_bounds\n",
    "\n",
    "print(f\"Calculated sample standard deviation: {sampleStdDev(avgTP_10s_arr)}\")\n",
    "print(f\"\\nCI based on T-score:\", confInterval_t(con_coef, avgTP_10s_arr))\n",
    "print(f\"\\nCI based on Z-score:\", confInterval_z(z_interval_l, z_interval_r, avgTP_10s_arr))\n",
    "print(f\"\\nMean: {sampleMean(avgTP_10s_arr)}\")\n",
    "\n",
    "print(f\"\\nCalculated sample standard deviation: {sampleStdDev(avgTP_100s_arr)}\")\n",
    "print(f\"\\nCI based on T-score:\", confInterval_t(con_coef, avgTP_100s_arr))\n",
    "print(f\"\\nCI based on Z-score:\", confInterval_z(z_interval_l, z_interval_r, avgTP_100s_arr))\n",
    "print(f\"\\nMean: {sampleMean(avgTP_100s_arr)}\")\n",
    "\n",
    "print(f\"\\nCalculated sample standard deviation: {sampleStdDev(avgTP_1000s_arr)}\")\n",
    "print(f\"\\nCI based on T-score:\", confInterval_t(con_coef, avgTP_1000s_arr))\n",
    "print(f\"\\nCI based on Z-score:\", confInterval_z(z_interval_l, z_interval_r, avgTP_1000s_arr))\n",
    "print(f\"\\nMean: {sampleMean(avgTP_1000s_arr)}\")\n",
    "\n",
    "CI_10s = confInterval_t(con_coef, avgTP_10s_arr)\n",
    "CI_100s = confInterval_t(con_coef, avgTP_100s_arr)\n",
    "CI_1000s = confInterval_t(con_coef, avgTP_1000s_arr)\n",
    "\n",
    "\n",
    "# width of the bars\n",
    "barWidth = 0.25\n",
    " \n",
    "# Choose the height of the blue bars\n",
    "bars = [sampleMean(avgTP_10s_arr), sampleMean(avgTP_100s_arr), sampleMean(avgTP_1000s_arr)]\n",
    " \n",
    "# Choose the height of the error bars (bars1)\n",
    "yer = [CI_10s[1] - CI_10s[0], CI_100s[1] - CI_100s[0], CI_1000s[1] - CI_1000s[0]]\n",
    " \n",
    "# The x position of bars\n",
    "r = np.arange(len(bars))\n",
    "#r2 = [x + barWidth for x in r1]\n",
    "\n",
    "plt.figure(figsize = (15,10))\n",
    "# Create blue bars\n",
    "plt.bar(r, bars, width = barWidth, color = 'yellow', edgecolor = 'black', yerr=yer, capsize=7, label=True)\n",
    " \n",
    "# Create cyan bars\n",
    "#plt.bar(r2, bars2, width = barWidth, color = 'cyan', edgecolor = 'black', yerr=yer2, capsize=7, label='sorgho')\n",
    " \n",
    "# general layout\n",
    "plt.xticks(np.arange(len(bars)), ['10s', '100s', '1000s'])\n",
    "plt.ylabel('Average Throughput')\n",
    "plt.legend(['Avg_TP'], loc = 'upper left', fontsize = 18)\n",
    "\n",
    "# Show graphic\n",
    "plt.show()"
   ]
  },
  {
   "cell_type": "code",
   "execution_count": 2,
   "metadata": {},
   "outputs": [
    {
     "name": "stdout",
     "output_type": "stream",
     "text": [
      "    Sim_T  rxPkOk_Sum    Throughput\n",
      "0     1.0        55.0     55.000000\n",
      "1     1.4      1609.0   1149.285714\n",
      "2     1.8      4623.0   2568.333333\n",
      "3     2.2     10651.0   4841.363636\n",
      "4     2.6     22707.0   8733.461538\n",
      "5     3.0     40791.0  13597.000000\n",
      "6     3.4     63396.0  18645.882353\n",
      "7     3.8    101071.0  26597.631579\n",
      "8     4.2    134225.0  31958.333333\n",
      "9     4.6    151579.0  32951.956522\n",
      "10    5.0    165142.0  33028.400000\n",
      "11    5.4    175691.0  32535.370370\n",
      "12    5.8    183226.0  31590.689655\n",
      "13    6.2    187747.0  30281.774194\n",
      "14    6.6    190761.0  28903.181818\n",
      "15    7.0    193775.0  27682.142857\n",
      "16    7.4    196789.0  26593.108108\n",
      "17    7.8    199803.0  25615.769231\n",
      "18    8.2    202817.0  24733.780488\n",
      "19    8.6    204324.0  23758.604651\n",
      "20    9.0    205831.0  22870.111111\n",
      "21    9.4    208845.0  22217.553191\n",
      "22    9.8    211859.0  21618.265306\n",
      "23   10.2    214873.0  21065.980392\n",
      "24   10.6    217887.0  20555.377358\n",
      "25   11.0    220901.0  20081.909091\n",
      "26   11.4    225422.0  19773.859649\n",
      "27   11.8    234464.0  19869.830508\n",
      "28   12.2    252548.0  20700.655738\n",
      "29   12.6    285702.0  22674.761905\n",
      "30   13.0    320363.0  24643.307692\n",
      "31   13.4    336687.0  25125.895522\n",
      "32   13.8    350250.0  25380.434783\n",
      "33   14.2    357532.0  25178.309859\n",
      "34   14.6    363733.0  24913.219178\n",
      "35   15.0    374282.0  24952.133333\n",
      "36   15.4    386338.0  25086.883117\n",
      "37   15.8    398394.0  25214.810127\n",
      "38   16.2    413464.0  25522.469136\n",
      "39   16.6    428534.0  25815.301205\n",
      "40   17.0    445111.0  26183.000000\n",
      "41   17.4    463195.0  26620.402299\n",
      "42   17.8    482786.0  27122.808989\n",
      "43   18.2    503884.0  27685.934066\n",
      "44   18.6    526489.0  28305.860215\n",
      "45   19.0    550601.0  28979.000000\n",
      "46   19.4    576220.0  29702.061856\n",
      "47   19.8    585262.0  29558.686869\n"
     ]
    },
    {
     "data": {
      "application/vnd.plotly.v1+json": {
       "config": {
        "plotlyServerURL": "https://plot.ly"
       },
       "data": [
        {
         "hovertemplate": "Sim_T=%{x}<br>Throughput=%{y}<extra></extra>",
         "legendgroup": "",
         "line": {
          "color": "#636efa",
          "dash": "solid",
          "shape": "spline"
         },
         "mode": "lines",
         "name": "",
         "orientation": "v",
         "showlegend": false,
         "type": "scatter",
         "x": [
          1,
          1.4,
          1.8,
          2.2,
          2.6,
          3,
          3.4,
          3.8,
          4.2,
          4.6,
          5,
          5.4,
          5.8,
          6.2,
          6.6,
          7,
          7.4,
          7.8,
          8.2,
          8.6,
          9,
          9.4,
          9.8,
          10.2,
          10.6,
          11,
          11.4,
          11.8,
          12.2,
          12.6,
          13,
          13.4,
          13.8,
          14.2,
          14.6,
          15,
          15.4,
          15.8,
          16.2,
          16.6,
          17,
          17.4,
          17.8,
          18.2,
          18.6,
          19,
          19.4,
          19.8
         ],
         "xaxis": "x",
         "y": [
          55,
          1149.2857142857147,
          2568.333333333333,
          4841.363636363636,
          8733.461538461539,
          13597,
          18645.882352941182,
          26597.631578947367,
          31958.33333333333,
          32951.95652173913,
          33028.4,
          32535.370370370372,
          31590.689655172413,
          30281.774193548383,
          28903.181818181816,
          27682.142857142862,
          26593.10810810811,
          25615.769230769234,
          24733.780487804885,
          23758.604651162794,
          22870.11111111111,
          22217.55319148936,
          21618.265306122452,
          21065.980392156864,
          20555.37735849057,
          20081.90909090909,
          19773.859649122805,
          19869.830508474573,
          20700.65573770492,
          22674.761904761905,
          24643.30769230769,
          25125.895522388062,
          25380.434782608696,
          25178.30985915493,
          24913.219178082192,
          24952.13333333333,
          25086.88311688312,
          25214.81012658228,
          25522.469135802472,
          25815.301204819283,
          26183,
          26620.402298850582,
          27122.80898876404,
          27685.934065934067,
          28305.860215053766,
          28979,
          29702.0618556701,
          29558.68686868687
         ],
         "yaxis": "y"
        }
       ],
       "layout": {
        "legend": {
         "tracegroupgap": 0
        },
        "template": {
         "data": {
          "bar": [
           {
            "error_x": {
             "color": "#2a3f5f"
            },
            "error_y": {
             "color": "#2a3f5f"
            },
            "marker": {
             "line": {
              "color": "#E5ECF6",
              "width": 0.5
             }
            },
            "type": "bar"
           }
          ],
          "barpolar": [
           {
            "marker": {
             "line": {
              "color": "#E5ECF6",
              "width": 0.5
             }
            },
            "type": "barpolar"
           }
          ],
          "carpet": [
           {
            "aaxis": {
             "endlinecolor": "#2a3f5f",
             "gridcolor": "white",
             "linecolor": "white",
             "minorgridcolor": "white",
             "startlinecolor": "#2a3f5f"
            },
            "baxis": {
             "endlinecolor": "#2a3f5f",
             "gridcolor": "white",
             "linecolor": "white",
             "minorgridcolor": "white",
             "startlinecolor": "#2a3f5f"
            },
            "type": "carpet"
           }
          ],
          "choropleth": [
           {
            "colorbar": {
             "outlinewidth": 0,
             "ticks": ""
            },
            "type": "choropleth"
           }
          ],
          "contour": [
           {
            "colorbar": {
             "outlinewidth": 0,
             "ticks": ""
            },
            "colorscale": [
             [
              0,
              "#0d0887"
             ],
             [
              0.1111111111111111,
              "#46039f"
             ],
             [
              0.2222222222222222,
              "#7201a8"
             ],
             [
              0.3333333333333333,
              "#9c179e"
             ],
             [
              0.4444444444444444,
              "#bd3786"
             ],
             [
              0.5555555555555556,
              "#d8576b"
             ],
             [
              0.6666666666666666,
              "#ed7953"
             ],
             [
              0.7777777777777778,
              "#fb9f3a"
             ],
             [
              0.8888888888888888,
              "#fdca26"
             ],
             [
              1,
              "#f0f921"
             ]
            ],
            "type": "contour"
           }
          ],
          "contourcarpet": [
           {
            "colorbar": {
             "outlinewidth": 0,
             "ticks": ""
            },
            "type": "contourcarpet"
           }
          ],
          "heatmap": [
           {
            "colorbar": {
             "outlinewidth": 0,
             "ticks": ""
            },
            "colorscale": [
             [
              0,
              "#0d0887"
             ],
             [
              0.1111111111111111,
              "#46039f"
             ],
             [
              0.2222222222222222,
              "#7201a8"
             ],
             [
              0.3333333333333333,
              "#9c179e"
             ],
             [
              0.4444444444444444,
              "#bd3786"
             ],
             [
              0.5555555555555556,
              "#d8576b"
             ],
             [
              0.6666666666666666,
              "#ed7953"
             ],
             [
              0.7777777777777778,
              "#fb9f3a"
             ],
             [
              0.8888888888888888,
              "#fdca26"
             ],
             [
              1,
              "#f0f921"
             ]
            ],
            "type": "heatmap"
           }
          ],
          "heatmapgl": [
           {
            "colorbar": {
             "outlinewidth": 0,
             "ticks": ""
            },
            "colorscale": [
             [
              0,
              "#0d0887"
             ],
             [
              0.1111111111111111,
              "#46039f"
             ],
             [
              0.2222222222222222,
              "#7201a8"
             ],
             [
              0.3333333333333333,
              "#9c179e"
             ],
             [
              0.4444444444444444,
              "#bd3786"
             ],
             [
              0.5555555555555556,
              "#d8576b"
             ],
             [
              0.6666666666666666,
              "#ed7953"
             ],
             [
              0.7777777777777778,
              "#fb9f3a"
             ],
             [
              0.8888888888888888,
              "#fdca26"
             ],
             [
              1,
              "#f0f921"
             ]
            ],
            "type": "heatmapgl"
           }
          ],
          "histogram": [
           {
            "marker": {
             "colorbar": {
              "outlinewidth": 0,
              "ticks": ""
             }
            },
            "type": "histogram"
           }
          ],
          "histogram2d": [
           {
            "colorbar": {
             "outlinewidth": 0,
             "ticks": ""
            },
            "colorscale": [
             [
              0,
              "#0d0887"
             ],
             [
              0.1111111111111111,
              "#46039f"
             ],
             [
              0.2222222222222222,
              "#7201a8"
             ],
             [
              0.3333333333333333,
              "#9c179e"
             ],
             [
              0.4444444444444444,
              "#bd3786"
             ],
             [
              0.5555555555555556,
              "#d8576b"
             ],
             [
              0.6666666666666666,
              "#ed7953"
             ],
             [
              0.7777777777777778,
              "#fb9f3a"
             ],
             [
              0.8888888888888888,
              "#fdca26"
             ],
             [
              1,
              "#f0f921"
             ]
            ],
            "type": "histogram2d"
           }
          ],
          "histogram2dcontour": [
           {
            "colorbar": {
             "outlinewidth": 0,
             "ticks": ""
            },
            "colorscale": [
             [
              0,
              "#0d0887"
             ],
             [
              0.1111111111111111,
              "#46039f"
             ],
             [
              0.2222222222222222,
              "#7201a8"
             ],
             [
              0.3333333333333333,
              "#9c179e"
             ],
             [
              0.4444444444444444,
              "#bd3786"
             ],
             [
              0.5555555555555556,
              "#d8576b"
             ],
             [
              0.6666666666666666,
              "#ed7953"
             ],
             [
              0.7777777777777778,
              "#fb9f3a"
             ],
             [
              0.8888888888888888,
              "#fdca26"
             ],
             [
              1,
              "#f0f921"
             ]
            ],
            "type": "histogram2dcontour"
           }
          ],
          "mesh3d": [
           {
            "colorbar": {
             "outlinewidth": 0,
             "ticks": ""
            },
            "type": "mesh3d"
           }
          ],
          "parcoords": [
           {
            "line": {
             "colorbar": {
              "outlinewidth": 0,
              "ticks": ""
             }
            },
            "type": "parcoords"
           }
          ],
          "pie": [
           {
            "automargin": true,
            "type": "pie"
           }
          ],
          "scatter": [
           {
            "marker": {
             "colorbar": {
              "outlinewidth": 0,
              "ticks": ""
             }
            },
            "type": "scatter"
           }
          ],
          "scatter3d": [
           {
            "line": {
             "colorbar": {
              "outlinewidth": 0,
              "ticks": ""
             }
            },
            "marker": {
             "colorbar": {
              "outlinewidth": 0,
              "ticks": ""
             }
            },
            "type": "scatter3d"
           }
          ],
          "scattercarpet": [
           {
            "marker": {
             "colorbar": {
              "outlinewidth": 0,
              "ticks": ""
             }
            },
            "type": "scattercarpet"
           }
          ],
          "scattergeo": [
           {
            "marker": {
             "colorbar": {
              "outlinewidth": 0,
              "ticks": ""
             }
            },
            "type": "scattergeo"
           }
          ],
          "scattergl": [
           {
            "marker": {
             "colorbar": {
              "outlinewidth": 0,
              "ticks": ""
             }
            },
            "type": "scattergl"
           }
          ],
          "scattermapbox": [
           {
            "marker": {
             "colorbar": {
              "outlinewidth": 0,
              "ticks": ""
             }
            },
            "type": "scattermapbox"
           }
          ],
          "scatterpolar": [
           {
            "marker": {
             "colorbar": {
              "outlinewidth": 0,
              "ticks": ""
             }
            },
            "type": "scatterpolar"
           }
          ],
          "scatterpolargl": [
           {
            "marker": {
             "colorbar": {
              "outlinewidth": 0,
              "ticks": ""
             }
            },
            "type": "scatterpolargl"
           }
          ],
          "scatterternary": [
           {
            "marker": {
             "colorbar": {
              "outlinewidth": 0,
              "ticks": ""
             }
            },
            "type": "scatterternary"
           }
          ],
          "surface": [
           {
            "colorbar": {
             "outlinewidth": 0,
             "ticks": ""
            },
            "colorscale": [
             [
              0,
              "#0d0887"
             ],
             [
              0.1111111111111111,
              "#46039f"
             ],
             [
              0.2222222222222222,
              "#7201a8"
             ],
             [
              0.3333333333333333,
              "#9c179e"
             ],
             [
              0.4444444444444444,
              "#bd3786"
             ],
             [
              0.5555555555555556,
              "#d8576b"
             ],
             [
              0.6666666666666666,
              "#ed7953"
             ],
             [
              0.7777777777777778,
              "#fb9f3a"
             ],
             [
              0.8888888888888888,
              "#fdca26"
             ],
             [
              1,
              "#f0f921"
             ]
            ],
            "type": "surface"
           }
          ],
          "table": [
           {
            "cells": {
             "fill": {
              "color": "#EBF0F8"
             },
             "line": {
              "color": "white"
             }
            },
            "header": {
             "fill": {
              "color": "#C8D4E3"
             },
             "line": {
              "color": "white"
             }
            },
            "type": "table"
           }
          ]
         },
         "layout": {
          "annotationdefaults": {
           "arrowcolor": "#2a3f5f",
           "arrowhead": 0,
           "arrowwidth": 1
          },
          "coloraxis": {
           "colorbar": {
            "outlinewidth": 0,
            "ticks": ""
           }
          },
          "colorscale": {
           "diverging": [
            [
             0,
             "#8e0152"
            ],
            [
             0.1,
             "#c51b7d"
            ],
            [
             0.2,
             "#de77ae"
            ],
            [
             0.3,
             "#f1b6da"
            ],
            [
             0.4,
             "#fde0ef"
            ],
            [
             0.5,
             "#f7f7f7"
            ],
            [
             0.6,
             "#e6f5d0"
            ],
            [
             0.7,
             "#b8e186"
            ],
            [
             0.8,
             "#7fbc41"
            ],
            [
             0.9,
             "#4d9221"
            ],
            [
             1,
             "#276419"
            ]
           ],
           "sequential": [
            [
             0,
             "#0d0887"
            ],
            [
             0.1111111111111111,
             "#46039f"
            ],
            [
             0.2222222222222222,
             "#7201a8"
            ],
            [
             0.3333333333333333,
             "#9c179e"
            ],
            [
             0.4444444444444444,
             "#bd3786"
            ],
            [
             0.5555555555555556,
             "#d8576b"
            ],
            [
             0.6666666666666666,
             "#ed7953"
            ],
            [
             0.7777777777777778,
             "#fb9f3a"
            ],
            [
             0.8888888888888888,
             "#fdca26"
            ],
            [
             1,
             "#f0f921"
            ]
           ],
           "sequentialminus": [
            [
             0,
             "#0d0887"
            ],
            [
             0.1111111111111111,
             "#46039f"
            ],
            [
             0.2222222222222222,
             "#7201a8"
            ],
            [
             0.3333333333333333,
             "#9c179e"
            ],
            [
             0.4444444444444444,
             "#bd3786"
            ],
            [
             0.5555555555555556,
             "#d8576b"
            ],
            [
             0.6666666666666666,
             "#ed7953"
            ],
            [
             0.7777777777777778,
             "#fb9f3a"
            ],
            [
             0.8888888888888888,
             "#fdca26"
            ],
            [
             1,
             "#f0f921"
            ]
           ]
          },
          "colorway": [
           "#636efa",
           "#EF553B",
           "#00cc96",
           "#ab63fa",
           "#FFA15A",
           "#19d3f3",
           "#FF6692",
           "#B6E880",
           "#FF97FF",
           "#FECB52"
          ],
          "font": {
           "color": "#2a3f5f"
          },
          "geo": {
           "bgcolor": "white",
           "lakecolor": "white",
           "landcolor": "#E5ECF6",
           "showlakes": true,
           "showland": true,
           "subunitcolor": "white"
          },
          "hoverlabel": {
           "align": "left"
          },
          "hovermode": "closest",
          "mapbox": {
           "style": "light"
          },
          "paper_bgcolor": "white",
          "plot_bgcolor": "#E5ECF6",
          "polar": {
           "angularaxis": {
            "gridcolor": "white",
            "linecolor": "white",
            "ticks": ""
           },
           "bgcolor": "#E5ECF6",
           "radialaxis": {
            "gridcolor": "white",
            "linecolor": "white",
            "ticks": ""
           }
          },
          "scene": {
           "xaxis": {
            "backgroundcolor": "#E5ECF6",
            "gridcolor": "white",
            "gridwidth": 2,
            "linecolor": "white",
            "showbackground": true,
            "ticks": "",
            "zerolinecolor": "white"
           },
           "yaxis": {
            "backgroundcolor": "#E5ECF6",
            "gridcolor": "white",
            "gridwidth": 2,
            "linecolor": "white",
            "showbackground": true,
            "ticks": "",
            "zerolinecolor": "white"
           },
           "zaxis": {
            "backgroundcolor": "#E5ECF6",
            "gridcolor": "white",
            "gridwidth": 2,
            "linecolor": "white",
            "showbackground": true,
            "ticks": "",
            "zerolinecolor": "white"
           }
          },
          "shapedefaults": {
           "line": {
            "color": "#2a3f5f"
           }
          },
          "ternary": {
           "aaxis": {
            "gridcolor": "white",
            "linecolor": "white",
            "ticks": ""
           },
           "baxis": {
            "gridcolor": "white",
            "linecolor": "white",
            "ticks": ""
           },
           "bgcolor": "#E5ECF6",
           "caxis": {
            "gridcolor": "white",
            "linecolor": "white",
            "ticks": ""
           }
          },
          "title": {
           "x": 0.05
          },
          "xaxis": {
           "automargin": true,
           "gridcolor": "white",
           "linecolor": "white",
           "ticks": "",
           "title": {
            "standoff": 15
           },
           "zerolinecolor": "white",
           "zerolinewidth": 2
          },
          "yaxis": {
           "automargin": true,
           "gridcolor": "white",
           "linecolor": "white",
           "ticks": "",
           "title": {
            "standoff": 15
           },
           "zerolinecolor": "white",
           "zerolinewidth": 2
          }
         }
        },
        "title": {
         "text": "Throughput vs Time"
        },
        "xaxis": {
         "anchor": "y",
         "domain": [
          0,
          1
         ],
         "title": {
          "text": "Sim_T"
         }
        },
        "yaxis": {
         "anchor": "x",
         "domain": [
          0,
          1
         ],
         "title": {
          "text": "Throughput"
         }
        }
       }
      },
      "text/html": [
       "<div>\n",
       "        \n",
       "        \n",
       "            <div id=\"b470e16e-fb88-4a7c-9559-e4f4085c9bda\" class=\"plotly-graph-div\" style=\"height:525px; width:100%;\"></div>\n",
       "            <script type=\"text/javascript\">\n",
       "                require([\"plotly\"], function(Plotly) {\n",
       "                    window.PLOTLYENV=window.PLOTLYENV || {};\n",
       "                    \n",
       "                if (document.getElementById(\"b470e16e-fb88-4a7c-9559-e4f4085c9bda\")) {\n",
       "                    Plotly.newPlot(\n",
       "                        'b470e16e-fb88-4a7c-9559-e4f4085c9bda',\n",
       "                        [{\"hovertemplate\": \"Sim_T=%{x}<br>Throughput=%{y}<extra></extra>\", \"legendgroup\": \"\", \"line\": {\"color\": \"#636efa\", \"dash\": \"solid\", \"shape\": \"spline\"}, \"mode\": \"lines\", \"name\": \"\", \"orientation\": \"v\", \"showlegend\": false, \"type\": \"scatter\", \"x\": [1.0, 1.4, 1.8, 2.2, 2.6, 3.0, 3.4, 3.8, 4.2, 4.6, 5.0, 5.4, 5.8, 6.2, 6.6, 7.0, 7.4, 7.8, 8.2, 8.6, 9.0, 9.4, 9.8, 10.2, 10.6, 11.0, 11.4, 11.8, 12.2, 12.6, 13.0, 13.4, 13.8, 14.2, 14.6, 15.0, 15.4, 15.8, 16.2, 16.6, 17.0, 17.4, 17.8, 18.2, 18.6, 19.0, 19.4, 19.8], \"xaxis\": \"x\", \"y\": [55.0, 1149.2857142857147, 2568.333333333333, 4841.363636363636, 8733.461538461539, 13597.0, 18645.882352941182, 26597.631578947367, 31958.33333333333, 32951.95652173913, 33028.4, 32535.370370370372, 31590.689655172413, 30281.774193548383, 28903.181818181816, 27682.142857142862, 26593.10810810811, 25615.769230769234, 24733.780487804885, 23758.604651162794, 22870.11111111111, 22217.55319148936, 21618.265306122452, 21065.980392156864, 20555.37735849057, 20081.90909090909, 19773.859649122805, 19869.830508474573, 20700.65573770492, 22674.761904761905, 24643.30769230769, 25125.895522388062, 25380.434782608696, 25178.30985915493, 24913.219178082192, 24952.13333333333, 25086.88311688312, 25214.81012658228, 25522.469135802472, 25815.301204819283, 26183.0, 26620.402298850582, 27122.80898876404, 27685.934065934067, 28305.860215053766, 28979.0, 29702.0618556701, 29558.68686868687], \"yaxis\": \"y\"}],\n",
       "                        {\"legend\": {\"tracegroupgap\": 0}, \"template\": {\"data\": {\"bar\": [{\"error_x\": {\"color\": \"#2a3f5f\"}, \"error_y\": {\"color\": \"#2a3f5f\"}, \"marker\": {\"line\": {\"color\": \"#E5ECF6\", \"width\": 0.5}}, \"type\": \"bar\"}], \"barpolar\": [{\"marker\": {\"line\": {\"color\": \"#E5ECF6\", \"width\": 0.5}}, \"type\": \"barpolar\"}], \"carpet\": [{\"aaxis\": {\"endlinecolor\": \"#2a3f5f\", \"gridcolor\": \"white\", \"linecolor\": \"white\", \"minorgridcolor\": \"white\", \"startlinecolor\": \"#2a3f5f\"}, \"baxis\": {\"endlinecolor\": \"#2a3f5f\", \"gridcolor\": \"white\", \"linecolor\": \"white\", \"minorgridcolor\": \"white\", \"startlinecolor\": \"#2a3f5f\"}, \"type\": \"carpet\"}], \"choropleth\": [{\"colorbar\": {\"outlinewidth\": 0, \"ticks\": \"\"}, \"type\": \"choropleth\"}], \"contour\": [{\"colorbar\": {\"outlinewidth\": 0, \"ticks\": \"\"}, \"colorscale\": [[0.0, \"#0d0887\"], [0.1111111111111111, \"#46039f\"], [0.2222222222222222, \"#7201a8\"], [0.3333333333333333, \"#9c179e\"], [0.4444444444444444, \"#bd3786\"], [0.5555555555555556, \"#d8576b\"], [0.6666666666666666, \"#ed7953\"], [0.7777777777777778, \"#fb9f3a\"], [0.8888888888888888, \"#fdca26\"], [1.0, \"#f0f921\"]], \"type\": \"contour\"}], \"contourcarpet\": [{\"colorbar\": {\"outlinewidth\": 0, \"ticks\": \"\"}, \"type\": \"contourcarpet\"}], \"heatmap\": [{\"colorbar\": {\"outlinewidth\": 0, \"ticks\": \"\"}, \"colorscale\": [[0.0, \"#0d0887\"], [0.1111111111111111, \"#46039f\"], [0.2222222222222222, \"#7201a8\"], [0.3333333333333333, \"#9c179e\"], [0.4444444444444444, \"#bd3786\"], [0.5555555555555556, \"#d8576b\"], [0.6666666666666666, \"#ed7953\"], [0.7777777777777778, \"#fb9f3a\"], [0.8888888888888888, \"#fdca26\"], [1.0, \"#f0f921\"]], \"type\": \"heatmap\"}], \"heatmapgl\": [{\"colorbar\": {\"outlinewidth\": 0, \"ticks\": \"\"}, \"colorscale\": [[0.0, \"#0d0887\"], [0.1111111111111111, \"#46039f\"], [0.2222222222222222, \"#7201a8\"], [0.3333333333333333, \"#9c179e\"], [0.4444444444444444, \"#bd3786\"], [0.5555555555555556, \"#d8576b\"], [0.6666666666666666, \"#ed7953\"], [0.7777777777777778, \"#fb9f3a\"], [0.8888888888888888, \"#fdca26\"], [1.0, \"#f0f921\"]], \"type\": \"heatmapgl\"}], \"histogram\": [{\"marker\": {\"colorbar\": {\"outlinewidth\": 0, \"ticks\": \"\"}}, \"type\": \"histogram\"}], \"histogram2d\": [{\"colorbar\": {\"outlinewidth\": 0, \"ticks\": \"\"}, \"colorscale\": [[0.0, \"#0d0887\"], [0.1111111111111111, \"#46039f\"], [0.2222222222222222, \"#7201a8\"], [0.3333333333333333, \"#9c179e\"], [0.4444444444444444, \"#bd3786\"], [0.5555555555555556, \"#d8576b\"], [0.6666666666666666, \"#ed7953\"], [0.7777777777777778, \"#fb9f3a\"], [0.8888888888888888, \"#fdca26\"], [1.0, \"#f0f921\"]], \"type\": \"histogram2d\"}], \"histogram2dcontour\": [{\"colorbar\": {\"outlinewidth\": 0, \"ticks\": \"\"}, \"colorscale\": [[0.0, \"#0d0887\"], [0.1111111111111111, \"#46039f\"], [0.2222222222222222, \"#7201a8\"], [0.3333333333333333, \"#9c179e\"], [0.4444444444444444, \"#bd3786\"], [0.5555555555555556, \"#d8576b\"], [0.6666666666666666, \"#ed7953\"], [0.7777777777777778, \"#fb9f3a\"], [0.8888888888888888, \"#fdca26\"], [1.0, \"#f0f921\"]], \"type\": \"histogram2dcontour\"}], \"mesh3d\": [{\"colorbar\": {\"outlinewidth\": 0, \"ticks\": \"\"}, \"type\": \"mesh3d\"}], \"parcoords\": [{\"line\": {\"colorbar\": {\"outlinewidth\": 0, \"ticks\": \"\"}}, \"type\": \"parcoords\"}], \"pie\": [{\"automargin\": true, \"type\": \"pie\"}], \"scatter\": [{\"marker\": {\"colorbar\": {\"outlinewidth\": 0, \"ticks\": \"\"}}, \"type\": \"scatter\"}], \"scatter3d\": [{\"line\": {\"colorbar\": {\"outlinewidth\": 0, \"ticks\": \"\"}}, \"marker\": {\"colorbar\": {\"outlinewidth\": 0, \"ticks\": \"\"}}, \"type\": \"scatter3d\"}], \"scattercarpet\": [{\"marker\": {\"colorbar\": {\"outlinewidth\": 0, \"ticks\": \"\"}}, \"type\": \"scattercarpet\"}], \"scattergeo\": [{\"marker\": {\"colorbar\": {\"outlinewidth\": 0, \"ticks\": \"\"}}, \"type\": \"scattergeo\"}], \"scattergl\": [{\"marker\": {\"colorbar\": {\"outlinewidth\": 0, \"ticks\": \"\"}}, \"type\": \"scattergl\"}], \"scattermapbox\": [{\"marker\": {\"colorbar\": {\"outlinewidth\": 0, \"ticks\": \"\"}}, \"type\": \"scattermapbox\"}], \"scatterpolar\": [{\"marker\": {\"colorbar\": {\"outlinewidth\": 0, \"ticks\": \"\"}}, \"type\": \"scatterpolar\"}], \"scatterpolargl\": [{\"marker\": {\"colorbar\": {\"outlinewidth\": 0, \"ticks\": \"\"}}, \"type\": \"scatterpolargl\"}], \"scatterternary\": [{\"marker\": {\"colorbar\": {\"outlinewidth\": 0, \"ticks\": \"\"}}, \"type\": \"scatterternary\"}], \"surface\": [{\"colorbar\": {\"outlinewidth\": 0, \"ticks\": \"\"}, \"colorscale\": [[0.0, \"#0d0887\"], [0.1111111111111111, \"#46039f\"], [0.2222222222222222, \"#7201a8\"], [0.3333333333333333, \"#9c179e\"], [0.4444444444444444, \"#bd3786\"], [0.5555555555555556, \"#d8576b\"], [0.6666666666666666, \"#ed7953\"], [0.7777777777777778, \"#fb9f3a\"], [0.8888888888888888, \"#fdca26\"], [1.0, \"#f0f921\"]], \"type\": \"surface\"}], \"table\": [{\"cells\": {\"fill\": {\"color\": \"#EBF0F8\"}, \"line\": {\"color\": \"white\"}}, \"header\": {\"fill\": {\"color\": \"#C8D4E3\"}, \"line\": {\"color\": \"white\"}}, \"type\": \"table\"}]}, \"layout\": {\"annotationdefaults\": {\"arrowcolor\": \"#2a3f5f\", \"arrowhead\": 0, \"arrowwidth\": 1}, \"coloraxis\": {\"colorbar\": {\"outlinewidth\": 0, \"ticks\": \"\"}}, \"colorscale\": {\"diverging\": [[0, \"#8e0152\"], [0.1, \"#c51b7d\"], [0.2, \"#de77ae\"], [0.3, \"#f1b6da\"], [0.4, \"#fde0ef\"], [0.5, \"#f7f7f7\"], [0.6, \"#e6f5d0\"], [0.7, \"#b8e186\"], [0.8, \"#7fbc41\"], [0.9, \"#4d9221\"], [1, \"#276419\"]], \"sequential\": [[0.0, \"#0d0887\"], [0.1111111111111111, \"#46039f\"], [0.2222222222222222, \"#7201a8\"], [0.3333333333333333, \"#9c179e\"], [0.4444444444444444, \"#bd3786\"], [0.5555555555555556, \"#d8576b\"], [0.6666666666666666, \"#ed7953\"], [0.7777777777777778, \"#fb9f3a\"], [0.8888888888888888, \"#fdca26\"], [1.0, \"#f0f921\"]], \"sequentialminus\": [[0.0, \"#0d0887\"], [0.1111111111111111, \"#46039f\"], [0.2222222222222222, \"#7201a8\"], [0.3333333333333333, \"#9c179e\"], [0.4444444444444444, \"#bd3786\"], [0.5555555555555556, \"#d8576b\"], [0.6666666666666666, \"#ed7953\"], [0.7777777777777778, \"#fb9f3a\"], [0.8888888888888888, \"#fdca26\"], [1.0, \"#f0f921\"]]}, \"colorway\": [\"#636efa\", \"#EF553B\", \"#00cc96\", \"#ab63fa\", \"#FFA15A\", \"#19d3f3\", \"#FF6692\", \"#B6E880\", \"#FF97FF\", \"#FECB52\"], \"font\": {\"color\": \"#2a3f5f\"}, \"geo\": {\"bgcolor\": \"white\", \"lakecolor\": \"white\", \"landcolor\": \"#E5ECF6\", \"showlakes\": true, \"showland\": true, \"subunitcolor\": \"white\"}, \"hoverlabel\": {\"align\": \"left\"}, \"hovermode\": \"closest\", \"mapbox\": {\"style\": \"light\"}, \"paper_bgcolor\": \"white\", \"plot_bgcolor\": \"#E5ECF6\", \"polar\": {\"angularaxis\": {\"gridcolor\": \"white\", \"linecolor\": \"white\", \"ticks\": \"\"}, \"bgcolor\": \"#E5ECF6\", \"radialaxis\": {\"gridcolor\": \"white\", \"linecolor\": \"white\", \"ticks\": \"\"}}, \"scene\": {\"xaxis\": {\"backgroundcolor\": \"#E5ECF6\", \"gridcolor\": \"white\", \"gridwidth\": 2, \"linecolor\": \"white\", \"showbackground\": true, \"ticks\": \"\", \"zerolinecolor\": \"white\"}, \"yaxis\": {\"backgroundcolor\": \"#E5ECF6\", \"gridcolor\": \"white\", \"gridwidth\": 2, \"linecolor\": \"white\", \"showbackground\": true, \"ticks\": \"\", \"zerolinecolor\": \"white\"}, \"zaxis\": {\"backgroundcolor\": \"#E5ECF6\", \"gridcolor\": \"white\", \"gridwidth\": 2, \"linecolor\": \"white\", \"showbackground\": true, \"ticks\": \"\", \"zerolinecolor\": \"white\"}}, \"shapedefaults\": {\"line\": {\"color\": \"#2a3f5f\"}}, \"ternary\": {\"aaxis\": {\"gridcolor\": \"white\", \"linecolor\": \"white\", \"ticks\": \"\"}, \"baxis\": {\"gridcolor\": \"white\", \"linecolor\": \"white\", \"ticks\": \"\"}, \"bgcolor\": \"#E5ECF6\", \"caxis\": {\"gridcolor\": \"white\", \"linecolor\": \"white\", \"ticks\": \"\"}}, \"title\": {\"x\": 0.05}, \"xaxis\": {\"automargin\": true, \"gridcolor\": \"white\", \"linecolor\": \"white\", \"ticks\": \"\", \"title\": {\"standoff\": 15}, \"zerolinecolor\": \"white\", \"zerolinewidth\": 2}, \"yaxis\": {\"automargin\": true, \"gridcolor\": \"white\", \"linecolor\": \"white\", \"ticks\": \"\", \"title\": {\"standoff\": 15}, \"zerolinecolor\": \"white\", \"zerolinewidth\": 2}}}, \"title\": {\"text\": \"Throughput vs Time\"}, \"xaxis\": {\"anchor\": \"y\", \"domain\": [0.0, 1.0], \"title\": {\"text\": \"Sim_T\"}}, \"yaxis\": {\"anchor\": \"x\", \"domain\": [0.0, 1.0], \"title\": {\"text\": \"Throughput\"}}},\n",
       "                        {\"responsive\": true}\n",
       "                    ).then(function(){\n",
       "                            \n",
       "var gd = document.getElementById('b470e16e-fb88-4a7c-9559-e4f4085c9bda');\n",
       "var x = new MutationObserver(function (mutations, observer) {{\n",
       "        var display = window.getComputedStyle(gd).display;\n",
       "        if (!display || display === 'none') {{\n",
       "            console.log([gd, 'removed!']);\n",
       "            Plotly.purge(gd);\n",
       "            observer.disconnect();\n",
       "        }}\n",
       "}});\n",
       "\n",
       "// Listen for the removal of the full notebook cells\n",
       "var notebookContainer = gd.closest('#notebook-container');\n",
       "if (notebookContainer) {{\n",
       "    x.observe(notebookContainer, {childList: true});\n",
       "}}\n",
       "\n",
       "// Listen for the clearing of the current output cell\n",
       "var outputEl = gd.closest('.output');\n",
       "if (outputEl) {{\n",
       "    x.observe(outputEl, {childList: true});\n",
       "}}\n",
       "\n",
       "                        })\n",
       "                };\n",
       "                });\n",
       "            </script>\n",
       "        </div>"
      ]
     },
     "metadata": {},
     "output_type": "display_data"
    }
   ],
   "source": [
    "import pandas as pd\n",
    "import numpy as np\n",
    "import matplotlib.pyplot as plt\n",
    "from matplotlib import pyplot as plt\n",
    "from matplotlib import style\n",
    "import math\n",
    "import decimal\n",
    "import plotly.express as px\n",
    "\n",
    "\n",
    "cols = ['Sim_T', 'Data']\n",
    "data = pd.read_csv('rxPkOk_at_server_BER-1e-7.csv',\n",
    "    delimiter=',', skiprows=[0], names=cols)\n",
    "\n",
    "df = pd.DataFrame(data)\n",
    "\n",
    "max_time = float(math.ceil(df['Sim_T'].max()))\n",
    "min_time = float(math.floor(df['Sim_T'].min()))\n",
    "\n",
    "df_summary = df[\"Data\"].groupby(pd.cut(df[\"Sim_T\"], np.arange(\n",
    "    min_time, max_time+0.4, 0.4), labels=np.arange(int(min_time), int(max_time), \n",
    "    decimal.Decimal('0.4')))).sum().cumsum().to_frame('rxPkOk_Sum').reset_index()\n",
    "\n",
    "df2_summary = df_summary.astype(float)\n",
    "df2_summary['Throughput'] = df2_summary['rxPkOk_Sum']/df2_summary['Sim_T']\n",
    "\n",
    "print(df2_summary)\n",
    "\n",
    "with open('csv_data.csv', 'w') as csv_file:\n",
    "    df2_summary.to_csv(path_or_buf=csv_file)\n",
    "\n",
    "df = pd.read_csv('csv_data.csv')\n",
    "\n",
    "fig = px.line(df, x='Sim_T', y='Throughput',\n",
    "    title='Throughput vs Time',line_shape='spline')\n",
    "fig.show()\n"
   ]
  },
  {
   "cell_type": "code",
   "execution_count": null,
   "metadata": {},
   "outputs": [],
   "source": []
  }
 ],
 "metadata": {
  "kernelspec": {
   "display_name": "Python 3",
   "language": "python",
   "name": "python3"
  },
  "language_info": {
   "codemirror_mode": {
    "name": "ipython",
    "version": 3
   },
   "file_extension": ".py",
   "mimetype": "text/x-python",
   "name": "python",
   "nbconvert_exporter": "python",
   "pygments_lexer": "ipython3",
   "version": "3.7.4"
  }
 },
 "nbformat": 4,
 "nbformat_minor": 2
}
