{
 "cells": [
  {
   "cell_type": "markdown",
   "metadata": {},
   "source": [
    "# Observed Values"
   ]
  },
  {
   "cell_type": "code",
   "execution_count": 2,
   "metadata": {},
   "outputs": [],
   "source": [
    "%matplotlib inline"
   ]
  },
  {
   "cell_type": "code",
   "execution_count": 3,
   "metadata": {
    "scrolled": false
   },
   "outputs": [
    {
     "name": "stdout",
     "output_type": "stream",
     "text": [
      "\n",
      "Enter a step value to bin the http response size data: 10000\n",
      "\n",
      "      http_response_size\n",
      "0                762847\n",
      "1                616103\n",
      "2                621588\n",
      "3                585836\n",
      "4                713042\n",
      "..                  ...\n",
      "995              648608\n",
      "996              506802\n",
      "997              651680\n",
      "998              679472\n",
      "999              643981\n",
      "\n",
      "[1000 rows x 1 columns] \n",
      "\n",
      "Minimum packet rate value: 455846\n",
      "Maximum packet rate value: 916033\n"
     ]
    },
    {
     "data": {
      "image/png": "[encoded data removed]",
      "text/plain": [
       "<Figure size 1080x576 with 1 Axes>"
      ]
     },
     "metadata": {
      "needs_background": "light"
     },
     "output_type": "display_data"
    }
   ],
   "source": [
    "import pandas as pd\n",
    "import numpy as np\n",
    "import matplotlib.pyplot as plt\n",
    "from matplotlib import pyplot as plt\n",
    "from matplotlib import style\n",
    "from decimal import Decimal\n",
    "import math\n",
    "import time\n",
    "\n",
    "size_step = float(input(\"\\nEnter a step value to bin the http response size data: \"))\n",
    "\n",
    "# Newly generated data is read in the following block of code for further processing and plotting \n",
    "columns = ['http_response_size']\n",
    "df = pd.read_csv('final_task_SimCN_FinalTask_2020_traces_TeamA2-3s.csv',delimiter=',', skiprows=[0], names=columns)\n",
    "\n",
    "print(\"\\n\", df, \"\\n\")\n",
    "y = df['http_response_size']\n",
    "\n",
    "plt.figure(figsize=(15,8))\n",
    "plt.title('Packets Received Distribution (Packet Arrival Rate)', size = 20)\n",
    "plt.xlabel('Incoming Packets', size = 16)\n",
    "plt.ylabel('Frequency', size = 16)\n",
    "plt.hist(y, bins = range(int(y.min()), int(y.max())+int(size_step), int(size_step)) , color = 'green', ec = 'white', label = True)\n",
    "plt.legend(['Obsereved Values',f\"Mean = {y.mean()}\"], loc='upper right')\n",
    "\n",
    "\n",
    "print(f\"Minimum packet rate value: {y.min()}\")\n",
    "print(f\"Maximum packet rate value: {y.max()}\")\n"
   ]
  },
  {
   "cell_type": "markdown",
   "metadata": {},
   "source": [
    "# Expected Values"
   ]
  },
  {
   "cell_type": "code",
   "execution_count": 8,
   "metadata": {
    "scrolled": false
   },
   "outputs": [
    {
     "name": "stdout",
     "output_type": "stream",
     "text": [
      "\n",
      "Enter the number of intervals desired for Chi-Square Test: 10\n",
      "\n",
      "Consider entering a new interval that is less than 10 !!!\n",
      "\n",
      "Enter the number of intervals desired for Chi-Square Test: 9\n",
      "\n",
      "          HTTP Response Size  N_j        np_j  (N_j - np_j)^2/np_j\n",
      "0  (455845.999, 506977.889]   14    8.388244             3.754279\n",
      "1  (506977.889, 558109.778]   46   49.742240             0.281539\n",
      "2  (558109.778, 609241.667]  151  161.675628             0.704924\n",
      "3  (609241.667, 660373.556]  300  288.637514             0.447295\n",
      "4  (660373.556, 711505.444]  284  283.364353             0.001426\n",
      "5  (711505.444, 762637.333]  152  152.969792             0.006148\n",
      "6  (762637.333, 813769.222]   46   45.353345             0.009220\n",
      "7  (813769.222, 864901.111]    5    7.369021             0.761602\n",
      "8    (864901.111, 916033.0]    1    0.654306             0.182643\n"
     ]
    }
   ],
   "source": [
    "from numpy import savetxt\n",
    "from scipy.stats import norm\n",
    "import statistics\n",
    "\n",
    "np.set_printoptions(suppress=True)\n",
    "\n",
    "def interval_range():\n",
    "    interval_range = []\n",
    "    interval_range.append(obs_min)\n",
    "    value = obs_min\n",
    "    for i in range(1, int(k)+1, 1):\n",
    "        if (value <= obs_max):\n",
    "            value += interval_size\n",
    "            interval_range.append(value)\n",
    "    return interval_range\n",
    "\n",
    "def np_j_less_than_5(array):\n",
    "    counter = 0\n",
    "    for i in array:\n",
    "        if i < 5.0:\n",
    "            counter+=1\n",
    "    return counter\n",
    "\n",
    "# We are required to generate an expected array with the same mean as the observed array\n",
    "\n",
    "columns = ['HTTP Response Size']\n",
    "df = pd.read_csv('final_task_SimCN_FinalTask_2020_traces_TeamA2-3s.csv',delimiter=',', skiprows=[0], names=columns)\n",
    "y =  df['HTTP Response Size']\n",
    "\n",
    "run = True\n",
    "while run:\n",
    "    try:\n",
    "        k = float(input(\"\\nEnter the number of intervals desired for Chi-Square Test: \")) #Interval\n",
    "        \n",
    "        obs_max = float(y.max())\n",
    "        obs_min = float(y.min())\n",
    "        interval_size = (obs_max - obs_min) / k\n",
    "\n",
    "        equi_distant_table = df[\"HTTP Response Size\"].groupby(pd.cut(df[\"HTTP Response Size\"], \n",
    "           interval_range(), include_lowest=True)).count().to_frame('N_j').reset_index()\n",
    "\n",
    "        n_pts = equi_distant_table['N_j'].sum() # number of data points (sum of occurrances)\n",
    "\n",
    "        # Observed occurances of data is saved to csv file\n",
    "        savetxt('observed_http_response_sizes.csv', equi_distant_table['N_j'], delimiter=',')\n",
    "\n",
    "        # Here we calculate the pdf for each bin and multiply it by the total count to get expected frequency array\n",
    "        expected_frequency = []\n",
    "        for i in range(1, int(k) + 1, 1):\n",
    "            expected_frequency.append(n_pts * (norm.cdf(obs_min + i * interval_size, statistics.mean(y), statistics.stdev(y)) - \n",
    "                                               norm.cdf(obs_min + (i-1) * interval_size, statistics.mean(y), statistics.stdev(y))))\n",
    "        \n",
    "        if (k >= 3 and (min(expected_frequency) >= (5 * np_j_less_than_5(expected_frequency))/int(k))):\n",
    "            equi_distant_table['np_j'] = np.array(expected_frequency)\n",
    "            equi_distant_table['(N_j - np_j)^2/np_j'] = ((equi_distant_table['N_j'] - \n",
    "                                                          equi_distant_table['np_j'])**2)/equi_distant_table['np_j']\n",
    "\n",
    "            print(\"\\n\", equi_distant_table)\n",
    "\n",
    "            # Expected frequency of data is saved to csv file\n",
    "            savetxt('expected_http_response_sizes.csv', equi_distant_table['np_j'], delimiter=',')\n",
    "        else:\n",
    "            raise Exception\n",
    "            \n",
    "    except:\n",
    "        if (k < 3):\n",
    "            print(f\"\\nConsider entering a new interval that is at least 3 !!!\")\n",
    "        else:\n",
    "            print(f\"\\nConsider entering a new interval that is less than {int(k)} !!!\")\n",
    "        continue \n",
    "        \n",
    "    else:\n",
    "        run = False"
   ]
  },
  {
   "cell_type": "markdown",
   "metadata": {},
   "source": [
    "# Chi-Square Test"
   ]
  },
  {
   "cell_type": "code",
   "execution_count": 7,
   "metadata": {
    "scrolled": true
   },
   "outputs": [
    {
     "name": "stdout",
     "output_type": "stream",
     "text": [
      "Chi-Square Critical Value is 14.067140449340169\n",
      "---\n",
      "\n",
      "Measured Chi-Square Value is 7.207182057248991\n",
      "Chi-Square Value using built-in function is 7.207182057248994\n",
      "P-Value using built-in function is 0.4076318030843564\n",
      "\n",
      "The null hypothesis, H₀, is ACCEPTED!\n"
     ]
    }
   ],
   "source": [
    "from scipy.stats import chisquare\n",
    "from scipy import stats\n",
    "\n",
    "SUB = str.maketrans(\"0123456789\", \"₀₁₂₃₄₅₆₇₈₉\")\n",
    "\n",
    "dof = k - 1\n",
    "crit = stats.chi2.ppf(q=0.95, df=dof) # q here is 1 - alpha, which is 0.05\n",
    "print(f\"Chi-Square Critical Value is {crit}\\n---\\n\")\n",
    "\n",
    "cols = ['obs']\n",
    "obs = pd.read_csv('observed_http_response_sizes.csv',delimiter=',', names = cols)\n",
    "observed_vals = obs['obs']\n",
    "\n",
    "cols1 = ['exp']\n",
    "exp = pd.read_csv('expected_http_response_sizes.csv',delimiter=',', names=cols1)\n",
    "expected_vals = exp['exp']\n",
    "\n",
    "chisq_sum = equi_distant_table['(N_j - np_j)^2/np_j'].sum()\n",
    "print(f\"Measured Chi-Square Value is {chisq_sum}\")\n",
    "\n",
    "chisq, p = chisquare(observed_vals, f_exp = expected_vals, ddof = 0, axis = 0)\n",
    "print(f\"Chi-Square Value using built-in function is {chisq}\")\n",
    "print(f\"P-Value using built-in function is {p}\")\n",
    "\n",
    "if (chisq < crit): print(\"\\nThe null hypothesis, H0, is ACCEPTED!\".translate(SUB))\n",
    "else: print(\"\\nThe null hypothesis, H0, is REJECTED!\".translate(SUB))\n"
   ]
  },
  {
   "cell_type": "code",
   "execution_count": null,
   "metadata": {},
   "outputs": [],
   "source": []
  }
 ],
 "metadata": {
  "kernelspec": {
   "display_name": "Python 3",
   "language": "python",
   "name": "python3"
  },
  "language_info": {
   "codemirror_mode": {
    "name": "ipython",
    "version": 3
   },
   "file_extension": ".py",
   "mimetype": "text/x-python",
   "name": "python",
   "nbconvert_exporter": "python",
   "pygments_lexer": "ipython3",
   "version": "3.7.4"
  }
 },
 "nbformat": 4,
 "nbformat_minor": 2
}
